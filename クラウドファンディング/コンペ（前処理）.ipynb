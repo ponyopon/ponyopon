{
 "cells": [
  {
   "cell_type": "markdown",
   "metadata": {},
   "source": [
    "# 前処理"
   ]
  },
  {
   "cell_type": "code",
   "execution_count": null,
   "metadata": {},
   "outputs": [],
   "source": []
  },
  {
   "cell_type": "code",
   "execution_count": 16,
   "metadata": {},
   "outputs": [],
   "source": [
    "import pandas as pd\n",
    "import numpy as np"
   ]
  },
  {
   "cell_type": "code",
   "execution_count": 194,
   "metadata": {
    "scrolled": true
   },
   "outputs": [],
   "source": [
    "train=pd.read_csv('train.csv',index_col=None)\n",
    "test=pd.read_csv('test.csv',index_col=None)"
   ]
  },
  {
   "cell_type": "code",
   "execution_count": null,
   "metadata": {},
   "outputs": [],
   "source": []
  },
  {
   "cell_type": "code",
   "execution_count": 3,
   "metadata": {
    "scrolled": true
   },
   "outputs": [
    {
     "data": {
      "text/plain": [
       "144"
      ]
     },
     "execution_count": 3,
     "metadata": {},
     "output_type": "execute_result"
    }
   ],
   "source": [
    "len(train['category2'].unique())"
   ]
  },
  {
   "cell_type": "code",
   "execution_count": 4,
   "metadata": {},
   "outputs": [
    {
     "data": {
      "text/plain": [
       "15"
      ]
     },
     "execution_count": 4,
     "metadata": {},
     "output_type": "execute_result"
    }
   ],
   "source": [
    "len(train['category1'].unique())"
   ]
  },
  {
   "cell_type": "code",
   "execution_count": 5,
   "metadata": {},
   "outputs": [
    {
     "data": {
      "text/plain": [
       "22"
      ]
     },
     "execution_count": 5,
     "metadata": {},
     "output_type": "execute_result"
    }
   ],
   "source": [
    "len(train['country'].unique())"
   ]
  },
  {
   "cell_type": "code",
   "execution_count": 163,
   "metadata": {},
   "outputs": [
    {
     "data": {
      "text/html": [
       "<div>\n",
       "<style scoped>\n",
       "    .dataframe tbody tr th:only-of-type {\n",
       "        vertical-align: middle;\n",
       "    }\n",
       "\n",
       "    .dataframe tbody tr th {\n",
       "        vertical-align: top;\n",
       "    }\n",
       "\n",
       "    .dataframe thead th {\n",
       "        text-align: right;\n",
       "    }\n",
       "</style>\n",
       "<table border=\"1\" class=\"dataframe\">\n",
       "  <thead>\n",
       "    <tr style=\"text-align: right;\">\n",
       "      <th></th>\n",
       "      <th>id</th>\n",
       "      <th>duration</th>\n",
       "      <th>category1</th>\n",
       "      <th>category2</th>\n",
       "      <th>state</th>\n",
       "      <th>country</th>\n",
       "    </tr>\n",
       "  </thead>\n",
       "  <tbody>\n",
       "    <tr>\n",
       "      <th>0</th>\n",
       "      <td>0</td>\n",
       "      <td>29</td>\n",
       "      <td>publishing</td>\n",
       "      <td>young adult</td>\n",
       "      <td>0</td>\n",
       "      <td>0</td>\n",
       "    </tr>\n",
       "    <tr>\n",
       "      <th>1</th>\n",
       "      <td>1</td>\n",
       "      <td>34</td>\n",
       "      <td>fashion</td>\n",
       "      <td>ready-to-wear</td>\n",
       "      <td>0</td>\n",
       "      <td>1</td>\n",
       "    </tr>\n",
       "    <tr>\n",
       "      <th>2</th>\n",
       "      <td>2</td>\n",
       "      <td>30</td>\n",
       "      <td>food</td>\n",
       "      <td>spaces</td>\n",
       "      <td>0</td>\n",
       "      <td>2</td>\n",
       "    </tr>\n",
       "    <tr>\n",
       "      <th>3</th>\n",
       "      <td>3</td>\n",
       "      <td>41</td>\n",
       "      <td>technology</td>\n",
       "      <td>3d printing</td>\n",
       "      <td>0</td>\n",
       "      <td>2</td>\n",
       "    </tr>\n",
       "    <tr>\n",
       "      <th>4</th>\n",
       "      <td>4</td>\n",
       "      <td>29</td>\n",
       "      <td>technology</td>\n",
       "      <td>diy electronics</td>\n",
       "      <td>1</td>\n",
       "      <td>3</td>\n",
       "    </tr>\n",
       "  </tbody>\n",
       "</table>\n",
       "</div>"
      ],
      "text/plain": [
       "   id  duration   category1        category2  state  country\n",
       "0   0        29  publishing      young adult      0        0\n",
       "1   1        34     fashion    ready-to-wear      0        1\n",
       "2   2        30        food           spaces      0        2\n",
       "3   3        41  technology      3d printing      0        2\n",
       "4   4        29  technology  diy electronics      1        3"
      ]
     },
     "execution_count": 163,
     "metadata": {},
     "output_type": "execute_result"
    }
   ],
   "source": [
    "train_html_content=train[\"html_content\"]\n",
    "train_goal=train[\"goal\"]\n",
    "train=train.drop(\"html_content\",axis=1)\n",
    "train=train.drop(\"goal\",axis=1)\n",
    "\n",
    "#countryを数字に変更\n",
    "\n",
    "lis=[]\n",
    "dic={}\n",
    "\n",
    "train_country=train[\"country\"]\n",
    "train=train.drop(\"country\",axis=1)\n",
    "lis1= train_country.values.tolist()\n",
    "n=0\n",
    "\n",
    "for i in lis1:\n",
    "    if not i in  lis:\n",
    "        lis.append(i)\n",
    "        dic[i]=n\n",
    "        n=n+1\n",
    "        \n",
    "lis2=[]\n",
    "\n",
    "\n",
    "for t in train_country:\n",
    "    value = dic[t]\n",
    "    lis2.append(value)\n",
    "\n",
    "country = pd.DataFrame({'country':lis2})\n",
    "\n",
    "df_mix1=pd.merge(train, country,left_index=True, right_index=True)\n",
    "df_mix1.head()"
   ]
  },
  {
   "cell_type": "code",
   "execution_count": 164,
   "metadata": {},
   "outputs": [
    {
     "data": {
      "text/html": [
       "<div>\n",
       "<style scoped>\n",
       "    .dataframe tbody tr th:only-of-type {\n",
       "        vertical-align: middle;\n",
       "    }\n",
       "\n",
       "    .dataframe tbody tr th {\n",
       "        vertical-align: top;\n",
       "    }\n",
       "\n",
       "    .dataframe thead th {\n",
       "        text-align: right;\n",
       "    }\n",
       "</style>\n",
       "<table border=\"1\" class=\"dataframe\">\n",
       "  <thead>\n",
       "    <tr style=\"text-align: right;\">\n",
       "      <th></th>\n",
       "      <th>id</th>\n",
       "      <th>goal</th>\n",
       "      <th>duration</th>\n",
       "      <th>category1</th>\n",
       "      <th>category2</th>\n",
       "      <th>html_content</th>\n",
       "      <th>country</th>\n",
       "    </tr>\n",
       "  </thead>\n",
       "  <tbody>\n",
       "    <tr>\n",
       "      <th>0</th>\n",
       "      <td>10545</td>\n",
       "      <td>1-1000</td>\n",
       "      <td>60</td>\n",
       "      <td>dance</td>\n",
       "      <td>performances</td>\n",
       "      <td>&lt;div class=\"contents\"&gt;&lt;div&gt;&lt;p&gt;We are presentin...</td>\n",
       "      <td>2</td>\n",
       "    </tr>\n",
       "    <tr>\n",
       "      <th>1</th>\n",
       "      <td>10546</td>\n",
       "      <td>8001-9000</td>\n",
       "      <td>30</td>\n",
       "      <td>crafts</td>\n",
       "      <td>printing</td>\n",
       "      <td>&lt;div class=\"contents\"&gt;&lt;div&gt;&lt;a href=\"http://dum...</td>\n",
       "      <td>2</td>\n",
       "    </tr>\n",
       "    <tr>\n",
       "      <th>2</th>\n",
       "      <td>10547</td>\n",
       "      <td>9001-10000</td>\n",
       "      <td>60</td>\n",
       "      <td>design</td>\n",
       "      <td>product design</td>\n",
       "      <td>&lt;div class=\"contents\"&gt;&lt;div&gt;&lt;div class=\"templat...</td>\n",
       "      <td>2</td>\n",
       "    </tr>\n",
       "    <tr>\n",
       "      <th>3</th>\n",
       "      <td>10548</td>\n",
       "      <td>1001-2000</td>\n",
       "      <td>30</td>\n",
       "      <td>technology</td>\n",
       "      <td>software</td>\n",
       "      <td>&lt;div class=\"contents\"&gt;&lt;div&gt;&lt;p&gt;This is my video...</td>\n",
       "      <td>2</td>\n",
       "    </tr>\n",
       "    <tr>\n",
       "      <th>4</th>\n",
       "      <td>10549</td>\n",
       "      <td>4001-5000</td>\n",
       "      <td>59</td>\n",
       "      <td>technology</td>\n",
       "      <td>software</td>\n",
       "      <td>&lt;div class=\"contents\"&gt;&lt;div&gt;&lt;h1 class=\"page-anc...</td>\n",
       "      <td>2</td>\n",
       "    </tr>\n",
       "  </tbody>\n",
       "</table>\n",
       "</div>"
      ],
      "text/plain": [
       "      id        goal  duration   category1       category2  \\\n",
       "0  10545      1-1000        60       dance    performances   \n",
       "1  10546   8001-9000        30      crafts        printing   \n",
       "2  10547  9001-10000        60      design  product design   \n",
       "3  10548   1001-2000        30  technology        software   \n",
       "4  10549   4001-5000        59  technology        software   \n",
       "\n",
       "                                        html_content  country  \n",
       "0  <div class=\"contents\"><div><p>We are presentin...        2  \n",
       "1  <div class=\"contents\"><div><a href=\"http://dum...        2  \n",
       "2  <div class=\"contents\"><div><div class=\"templat...        2  \n",
       "3  <div class=\"contents\"><div><p>This is my video...        2  \n",
       "4  <div class=\"contents\"><div><h1 class=\"page-anc...        2  "
      ]
     },
     "execution_count": 164,
     "metadata": {},
     "output_type": "execute_result"
    }
   ],
   "source": [
    "#テスト_countryを数字に変更\n",
    "\n",
    "test_country=test[\"country\"]\n",
    "test=test.drop(\"country\",axis=1)\n",
    "\n",
    "\n",
    "lis2_test=[]\n",
    "\n",
    "for t in test_country:\n",
    "    value = dic[t]\n",
    "    lis2_test.append(value)\n",
    "\n",
    "country = pd.DataFrame({'country':lis2_test})\n",
    "\n",
    "df_mix1_test=pd.merge(test, country,left_index=True, right_index=True)\n",
    "df_mix1_test.head()"
   ]
  },
  {
   "cell_type": "code",
   "execution_count": 165,
   "metadata": {},
   "outputs": [
    {
     "data": {
      "text/html": [
       "<div>\n",
       "<style scoped>\n",
       "    .dataframe tbody tr th:only-of-type {\n",
       "        vertical-align: middle;\n",
       "    }\n",
       "\n",
       "    .dataframe tbody tr th {\n",
       "        vertical-align: top;\n",
       "    }\n",
       "\n",
       "    .dataframe thead th {\n",
       "        text-align: right;\n",
       "    }\n",
       "</style>\n",
       "<table border=\"1\" class=\"dataframe\">\n",
       "  <thead>\n",
       "    <tr style=\"text-align: right;\">\n",
       "      <th></th>\n",
       "      <th>id</th>\n",
       "      <th>duration</th>\n",
       "      <th>category2</th>\n",
       "      <th>state</th>\n",
       "      <th>country</th>\n",
       "      <th>category1</th>\n",
       "    </tr>\n",
       "  </thead>\n",
       "  <tbody>\n",
       "    <tr>\n",
       "      <th>0</th>\n",
       "      <td>0</td>\n",
       "      <td>29</td>\n",
       "      <td>young adult</td>\n",
       "      <td>0</td>\n",
       "      <td>0</td>\n",
       "      <td>0</td>\n",
       "    </tr>\n",
       "    <tr>\n",
       "      <th>1</th>\n",
       "      <td>1</td>\n",
       "      <td>34</td>\n",
       "      <td>ready-to-wear</td>\n",
       "      <td>0</td>\n",
       "      <td>1</td>\n",
       "      <td>1</td>\n",
       "    </tr>\n",
       "    <tr>\n",
       "      <th>2</th>\n",
       "      <td>2</td>\n",
       "      <td>30</td>\n",
       "      <td>spaces</td>\n",
       "      <td>0</td>\n",
       "      <td>2</td>\n",
       "      <td>2</td>\n",
       "    </tr>\n",
       "    <tr>\n",
       "      <th>3</th>\n",
       "      <td>3</td>\n",
       "      <td>41</td>\n",
       "      <td>3d printing</td>\n",
       "      <td>0</td>\n",
       "      <td>2</td>\n",
       "      <td>3</td>\n",
       "    </tr>\n",
       "    <tr>\n",
       "      <th>4</th>\n",
       "      <td>4</td>\n",
       "      <td>29</td>\n",
       "      <td>diy electronics</td>\n",
       "      <td>1</td>\n",
       "      <td>3</td>\n",
       "      <td>3</td>\n",
       "    </tr>\n",
       "  </tbody>\n",
       "</table>\n",
       "</div>"
      ],
      "text/plain": [
       "   id  duration        category2  state  country  category1\n",
       "0   0        29      young adult      0        0          0\n",
       "1   1        34    ready-to-wear      0        1          1\n",
       "2   2        30           spaces      0        2          2\n",
       "3   3        41      3d printing      0        2          3\n",
       "4   4        29  diy electronics      1        3          3"
      ]
     },
     "execution_count": 165,
     "metadata": {},
     "output_type": "execute_result"
    }
   ],
   "source": [
    "test_html_content=test[\"html_content\"]\n",
    "test_goal=test[\"goal\"]\n",
    "test=test.drop(\"html_content\",axis=1)\n",
    "test=test.drop(\"goal\",axis=1)\n",
    "\n",
    "#category1を数字に変更\n",
    "\n",
    "lis_cate1=[]\n",
    "dic_cate1={}\n",
    "\n",
    "train_category1=train[\"category1\"]\n",
    "df_mix1=df_mix1.drop(\"category1\",axis=1)\n",
    "lis1_cate1= train_category1.values.tolist()\n",
    "n=0\n",
    "\n",
    "for i in lis1_cate1:\n",
    "    if not i in  lis_cate1:\n",
    "        lis_cate1.append(i)\n",
    "        dic_cate1[i]=n\n",
    "        n=n+1\n",
    "        \n",
    "lis2_cate1=[]\n",
    "\n",
    "\n",
    "for t in train_category1:\n",
    "    value = dic_cate1[t]\n",
    "    lis2_cate1.append(value)\n",
    "\n",
    "category1 = pd.DataFrame({'category1':lis2_cate1})\n",
    "\n",
    "df_mix1=pd.merge(df_mix1, category1,left_index=True, right_index=True)\n",
    "df_mix1.head()"
   ]
  },
  {
   "cell_type": "code",
   "execution_count": 166,
   "metadata": {},
   "outputs": [
    {
     "data": {
      "text/html": [
       "<div>\n",
       "<style scoped>\n",
       "    .dataframe tbody tr th:only-of-type {\n",
       "        vertical-align: middle;\n",
       "    }\n",
       "\n",
       "    .dataframe tbody tr th {\n",
       "        vertical-align: top;\n",
       "    }\n",
       "\n",
       "    .dataframe thead th {\n",
       "        text-align: right;\n",
       "    }\n",
       "</style>\n",
       "<table border=\"1\" class=\"dataframe\">\n",
       "  <thead>\n",
       "    <tr style=\"text-align: right;\">\n",
       "      <th></th>\n",
       "      <th>id</th>\n",
       "      <th>goal</th>\n",
       "      <th>duration</th>\n",
       "      <th>category2</th>\n",
       "      <th>html_content</th>\n",
       "      <th>country</th>\n",
       "      <th>category1</th>\n",
       "    </tr>\n",
       "  </thead>\n",
       "  <tbody>\n",
       "    <tr>\n",
       "      <th>0</th>\n",
       "      <td>10545</td>\n",
       "      <td>1-1000</td>\n",
       "      <td>60</td>\n",
       "      <td>performances</td>\n",
       "      <td>&lt;div class=\"contents\"&gt;&lt;div&gt;&lt;p&gt;We are presentin...</td>\n",
       "      <td>2</td>\n",
       "      <td>7</td>\n",
       "    </tr>\n",
       "    <tr>\n",
       "      <th>1</th>\n",
       "      <td>10546</td>\n",
       "      <td>8001-9000</td>\n",
       "      <td>30</td>\n",
       "      <td>printing</td>\n",
       "      <td>&lt;div class=\"contents\"&gt;&lt;div&gt;&lt;a href=\"http://dum...</td>\n",
       "      <td>2</td>\n",
       "      <td>14</td>\n",
       "    </tr>\n",
       "    <tr>\n",
       "      <th>2</th>\n",
       "      <td>10547</td>\n",
       "      <td>9001-10000</td>\n",
       "      <td>60</td>\n",
       "      <td>product design</td>\n",
       "      <td>&lt;div class=\"contents\"&gt;&lt;div&gt;&lt;div class=\"templat...</td>\n",
       "      <td>2</td>\n",
       "      <td>8</td>\n",
       "    </tr>\n",
       "    <tr>\n",
       "      <th>3</th>\n",
       "      <td>10548</td>\n",
       "      <td>1001-2000</td>\n",
       "      <td>30</td>\n",
       "      <td>software</td>\n",
       "      <td>&lt;div class=\"contents\"&gt;&lt;div&gt;&lt;p&gt;This is my video...</td>\n",
       "      <td>2</td>\n",
       "      <td>3</td>\n",
       "    </tr>\n",
       "    <tr>\n",
       "      <th>4</th>\n",
       "      <td>10549</td>\n",
       "      <td>4001-5000</td>\n",
       "      <td>59</td>\n",
       "      <td>software</td>\n",
       "      <td>&lt;div class=\"contents\"&gt;&lt;div&gt;&lt;h1 class=\"page-anc...</td>\n",
       "      <td>2</td>\n",
       "      <td>3</td>\n",
       "    </tr>\n",
       "  </tbody>\n",
       "</table>\n",
       "</div>"
      ],
      "text/plain": [
       "      id        goal  duration       category2  \\\n",
       "0  10545      1-1000        60    performances   \n",
       "1  10546   8001-9000        30        printing   \n",
       "2  10547  9001-10000        60  product design   \n",
       "3  10548   1001-2000        30        software   \n",
       "4  10549   4001-5000        59        software   \n",
       "\n",
       "                                        html_content  country  category1  \n",
       "0  <div class=\"contents\"><div><p>We are presentin...        2          7  \n",
       "1  <div class=\"contents\"><div><a href=\"http://dum...        2         14  \n",
       "2  <div class=\"contents\"><div><div class=\"templat...        2          8  \n",
       "3  <div class=\"contents\"><div><p>This is my video...        2          3  \n",
       "4  <div class=\"contents\"><div><h1 class=\"page-anc...        2          3  "
      ]
     },
     "execution_count": 166,
     "metadata": {},
     "output_type": "execute_result"
    }
   ],
   "source": [
    "#テスト_category1を数字に変更\n",
    "test_category1=test[\"category1\"]\n",
    "df_mix1_test=df_mix1_test.drop(\"category1\",axis=1)\n",
    "\n",
    "\n",
    "lis2_test_category1=[]\n",
    "\n",
    "for t in test_category1:\n",
    "    value = dic_cate1[t]\n",
    "    lis2_test_category1.append(value)\n",
    "\n",
    "category1 = pd.DataFrame({'category1':lis2_test_category1})\n",
    "\n",
    "df_mix1_test=pd.merge(df_mix1_test, category1,left_index=True, right_index=True)\n",
    "df_mix1_test.head()"
   ]
  },
  {
   "cell_type": "code",
   "execution_count": 167,
   "metadata": {},
   "outputs": [
    {
     "data": {
      "text/html": [
       "<div>\n",
       "<style scoped>\n",
       "    .dataframe tbody tr th:only-of-type {\n",
       "        vertical-align: middle;\n",
       "    }\n",
       "\n",
       "    .dataframe tbody tr th {\n",
       "        vertical-align: top;\n",
       "    }\n",
       "\n",
       "    .dataframe thead th {\n",
       "        text-align: right;\n",
       "    }\n",
       "</style>\n",
       "<table border=\"1\" class=\"dataframe\">\n",
       "  <thead>\n",
       "    <tr style=\"text-align: right;\">\n",
       "      <th></th>\n",
       "      <th>id</th>\n",
       "      <th>goal</th>\n",
       "      <th>duration</th>\n",
       "      <th>html_content</th>\n",
       "      <th>country</th>\n",
       "      <th>category1</th>\n",
       "      <th>category2</th>\n",
       "    </tr>\n",
       "  </thead>\n",
       "  <tbody>\n",
       "    <tr>\n",
       "      <th>0</th>\n",
       "      <td>10545</td>\n",
       "      <td>1-1000</td>\n",
       "      <td>60</td>\n",
       "      <td>&lt;div class=\"contents\"&gt;&lt;div&gt;&lt;p&gt;We are presentin...</td>\n",
       "      <td>2</td>\n",
       "      <td>7</td>\n",
       "      <td>0</td>\n",
       "    </tr>\n",
       "    <tr>\n",
       "      <th>1</th>\n",
       "      <td>10546</td>\n",
       "      <td>8001-9000</td>\n",
       "      <td>30</td>\n",
       "      <td>&lt;div class=\"contents\"&gt;&lt;div&gt;&lt;a href=\"http://dum...</td>\n",
       "      <td>2</td>\n",
       "      <td>14</td>\n",
       "      <td>1</td>\n",
       "    </tr>\n",
       "    <tr>\n",
       "      <th>2</th>\n",
       "      <td>10547</td>\n",
       "      <td>9001-10000</td>\n",
       "      <td>60</td>\n",
       "      <td>&lt;div class=\"contents\"&gt;&lt;div&gt;&lt;div class=\"templat...</td>\n",
       "      <td>2</td>\n",
       "      <td>8</td>\n",
       "      <td>2</td>\n",
       "    </tr>\n",
       "    <tr>\n",
       "      <th>3</th>\n",
       "      <td>10548</td>\n",
       "      <td>1001-2000</td>\n",
       "      <td>30</td>\n",
       "      <td>&lt;div class=\"contents\"&gt;&lt;div&gt;&lt;p&gt;This is my video...</td>\n",
       "      <td>2</td>\n",
       "      <td>3</td>\n",
       "      <td>3</td>\n",
       "    </tr>\n",
       "    <tr>\n",
       "      <th>4</th>\n",
       "      <td>10549</td>\n",
       "      <td>4001-5000</td>\n",
       "      <td>59</td>\n",
       "      <td>&lt;div class=\"contents\"&gt;&lt;div&gt;&lt;h1 class=\"page-anc...</td>\n",
       "      <td>2</td>\n",
       "      <td>3</td>\n",
       "      <td>3</td>\n",
       "    </tr>\n",
       "  </tbody>\n",
       "</table>\n",
       "</div>"
      ],
      "text/plain": [
       "      id        goal  duration  \\\n",
       "0  10545      1-1000        60   \n",
       "1  10546   8001-9000        30   \n",
       "2  10547  9001-10000        60   \n",
       "3  10548   1001-2000        30   \n",
       "4  10549   4001-5000        59   \n",
       "\n",
       "                                        html_content  country  category1  \\\n",
       "0  <div class=\"contents\"><div><p>We are presentin...        2          7   \n",
       "1  <div class=\"contents\"><div><a href=\"http://dum...        2         14   \n",
       "2  <div class=\"contents\"><div><div class=\"templat...        2          8   \n",
       "3  <div class=\"contents\"><div><p>This is my video...        2          3   \n",
       "4  <div class=\"contents\"><div><h1 class=\"page-anc...        2          3   \n",
       "\n",
       "   category2  \n",
       "0          0  \n",
       "1          1  \n",
       "2          2  \n",
       "3          3  \n",
       "4          3  "
      ]
     },
     "execution_count": 167,
     "metadata": {},
     "output_type": "execute_result"
    }
   ],
   "source": [
    "#テストcategory2を数字に変更\n",
    "\n",
    "lis_cate2=[]\n",
    "dic_cate2={}\n",
    "\n",
    "test_category2=test[\"category2\"]\n",
    "df_mix1_test=df_mix1_test.drop(\"category2\",axis=1)\n",
    "lis1_cate2= test_category2.values.tolist()\n",
    "n=0\n",
    "\n",
    "for i in lis1_cate2:\n",
    "    if not i in  lis_cate2:\n",
    "        lis_cate2.append(i)\n",
    "        dic_cate2[i]=n\n",
    "        n=n+1\n",
    "        \n",
    "lis2_cate2=[]\n",
    "\n",
    "\n",
    "for t in test_category2:\n",
    "    value = dic_cate2[t]\n",
    "    lis2_cate2.append(value)\n",
    "\n",
    "category2 = pd.DataFrame({'category2':lis2_cate2})\n",
    "\n",
    "df_mix1_test=pd.merge(df_mix1_test, category2,left_index=True, right_index=True)\n",
    "df_mix1_test.head()"
   ]
  },
  {
   "cell_type": "code",
   "execution_count": 168,
   "metadata": {},
   "outputs": [
    {
     "data": {
      "text/html": [
       "<div>\n",
       "<style scoped>\n",
       "    .dataframe tbody tr th:only-of-type {\n",
       "        vertical-align: middle;\n",
       "    }\n",
       "\n",
       "    .dataframe tbody tr th {\n",
       "        vertical-align: top;\n",
       "    }\n",
       "\n",
       "    .dataframe thead th {\n",
       "        text-align: right;\n",
       "    }\n",
       "</style>\n",
       "<table border=\"1\" class=\"dataframe\">\n",
       "  <thead>\n",
       "    <tr style=\"text-align: right;\">\n",
       "      <th></th>\n",
       "      <th>id</th>\n",
       "      <th>duration</th>\n",
       "      <th>state</th>\n",
       "      <th>country</th>\n",
       "      <th>category1</th>\n",
       "      <th>category2</th>\n",
       "    </tr>\n",
       "  </thead>\n",
       "  <tbody>\n",
       "    <tr>\n",
       "      <th>0</th>\n",
       "      <td>0</td>\n",
       "      <td>29</td>\n",
       "      <td>0</td>\n",
       "      <td>0</td>\n",
       "      <td>0</td>\n",
       "      <td>41</td>\n",
       "    </tr>\n",
       "    <tr>\n",
       "      <th>1</th>\n",
       "      <td>1</td>\n",
       "      <td>34</td>\n",
       "      <td>0</td>\n",
       "      <td>1</td>\n",
       "      <td>1</td>\n",
       "      <td>34</td>\n",
       "    </tr>\n",
       "    <tr>\n",
       "      <th>2</th>\n",
       "      <td>2</td>\n",
       "      <td>30</td>\n",
       "      <td>0</td>\n",
       "      <td>2</td>\n",
       "      <td>2</td>\n",
       "      <td>103</td>\n",
       "    </tr>\n",
       "    <tr>\n",
       "      <th>3</th>\n",
       "      <td>3</td>\n",
       "      <td>41</td>\n",
       "      <td>0</td>\n",
       "      <td>2</td>\n",
       "      <td>3</td>\n",
       "      <td>100</td>\n",
       "    </tr>\n",
       "    <tr>\n",
       "      <th>4</th>\n",
       "      <td>4</td>\n",
       "      <td>29</td>\n",
       "      <td>1</td>\n",
       "      <td>3</td>\n",
       "      <td>3</td>\n",
       "      <td>89</td>\n",
       "    </tr>\n",
       "  </tbody>\n",
       "</table>\n",
       "</div>"
      ],
      "text/plain": [
       "   id  duration  state  country  category1  category2\n",
       "0   0        29      0        0          0         41\n",
       "1   1        34      0        1          1         34\n",
       "2   2        30      0        2          2        103\n",
       "3   3        41      0        2          3        100\n",
       "4   4        29      1        3          3         89"
      ]
     },
     "execution_count": 168,
     "metadata": {},
     "output_type": "execute_result"
    }
   ],
   "source": [
    "#トレイン_category2を数字に変更\n",
    "\n",
    "train_category2=train[\"category2\"]\n",
    "df_mix1=df_mix1.drop(\"category2\",axis=1)\n",
    "\n",
    "\n",
    "lis2_train_category2=[]\n",
    "\n",
    "for t in train_category2:\n",
    "    value = dic_cate2[t]\n",
    "    lis2_train_category2.append(value)\n",
    "\n",
    "category2 = pd.DataFrame({'category2':lis2_train_category2})\n",
    "\n",
    "df_mix1=pd.merge(df_mix1, category2,left_index=True, right_index=True)\n",
    "df_mix1.head()"
   ]
  },
  {
   "cell_type": "code",
   "execution_count": 196,
   "metadata": {},
   "outputs": [
    {
     "data": {
      "text/html": [
       "<div>\n",
       "<style scoped>\n",
       "    .dataframe tbody tr th:only-of-type {\n",
       "        vertical-align: middle;\n",
       "    }\n",
       "\n",
       "    .dataframe tbody tr th {\n",
       "        vertical-align: top;\n",
       "    }\n",
       "\n",
       "    .dataframe thead th {\n",
       "        text-align: right;\n",
       "    }\n",
       "</style>\n",
       "<table border=\"1\" class=\"dataframe\">\n",
       "  <thead>\n",
       "    <tr style=\"text-align: right;\">\n",
       "      <th></th>\n",
       "      <th>goal2</th>\n",
       "    </tr>\n",
       "  </thead>\n",
       "  <tbody>\n",
       "    <tr>\n",
       "      <th>0</th>\n",
       "      <td>5000</td>\n",
       "    </tr>\n",
       "    <tr>\n",
       "      <th>1</th>\n",
       "      <td>4000</td>\n",
       "    </tr>\n",
       "    <tr>\n",
       "      <th>2</th>\n",
       "      <td>20000</td>\n",
       "    </tr>\n",
       "    <tr>\n",
       "      <th>3</th>\n",
       "      <td>3000</td>\n",
       "    </tr>\n",
       "    <tr>\n",
       "      <th>4</th>\n",
       "      <td>3000</td>\n",
       "    </tr>\n",
       "    <tr>\n",
       "      <th>...</th>\n",
       "      <td>...</td>\n",
       "    </tr>\n",
       "    <tr>\n",
       "      <th>10540</th>\n",
       "      <td>1000</td>\n",
       "    </tr>\n",
       "    <tr>\n",
       "      <th>10541</th>\n",
       "      <td>1000</td>\n",
       "    </tr>\n",
       "    <tr>\n",
       "      <th>10542</th>\n",
       "      <td>20000</td>\n",
       "    </tr>\n",
       "    <tr>\n",
       "      <th>10543</th>\n",
       "      <td>1000</td>\n",
       "    </tr>\n",
       "    <tr>\n",
       "      <th>10544</th>\n",
       "      <td>75000</td>\n",
       "    </tr>\n",
       "  </tbody>\n",
       "</table>\n",
       "<p>10545 rows × 1 columns</p>\n",
       "</div>"
      ],
      "text/plain": [
       "       goal2\n",
       "0       5000\n",
       "1       4000\n",
       "2      20000\n",
       "3       3000\n",
       "4       3000\n",
       "...      ...\n",
       "10540   1000\n",
       "10541   1000\n",
       "10542  20000\n",
       "10543   1000\n",
       "10544  75000\n",
       "\n",
       "[10545 rows x 1 columns]"
      ]
     },
     "execution_count": 196,
     "metadata": {},
     "output_type": "execute_result"
    }
   ],
   "source": [
    "lis_goal= train['goal'].values.tolist()\n",
    "lis_goal1=[]\n",
    "lis_goal2=[]\n",
    "for i in lis_goal:\n",
    "    k=i.split(\"+\")\n",
    "    j=k[0]\n",
    "    t=j.split(\"-\")\n",
    "    lis_goal1.append(t[0])\n",
    "    lis_goal2.append(t[-1])\n",
    "    \n",
    "    \n",
    "goal1 = pd.DataFrame({'goal1':lis_goal1})\n",
    "goal2 = pd.DataFrame({'goal2':lis_goal2})\n",
    "#df_mix1=pd.merge(df_mix1, goal1,left_index=True, right_index=True)\n",
    "#df_mix1=pd.merge(df_mix1, goal2,left_index=True, right_index=True)\n",
    "#df_mix1['goal1']=df_mix1['goal1'].astype(int)\n",
    "#df_mix1['goal2']=df_mix1['goal2'].astype(int)\n",
    "goal2\n",
    "#print(df_mix1.dtypes)"
   ]
  },
  {
   "cell_type": "code",
   "execution_count": null,
   "metadata": {},
   "outputs": [],
   "source": []
  },
  {
   "cell_type": "code",
   "execution_count": 197,
   "metadata": {},
   "outputs": [],
   "source": [
    "lis_goal_test= test['goal'].values.tolist()\n",
    "lis_goal1_test=[]\n",
    "lis_goal2_test=[]\n",
    "for i in lis_goal_test:\n",
    "    k=i.split(\"+\")\n",
    "    j=k[0]\n",
    "    t=j.split(\"-\")\n",
    "    lis_goal1_test.append(t[0])\n",
    "    lis_goal2_test.append(t[-1])\n",
    "        \n",
    "goal1_test = pd.DataFrame({'goal1':lis_goal1_test})\n",
    "goal2_test = pd.DataFrame({'goal2':lis_goal2_test})\n",
    "#df_mix1_test=pd.merge(df_mix1_test, goal1_test,left_index=True, right_index=True)\n",
    "#df_mix1_test=pd.merge(df_mix1_test, goal2_test,left_index=True, right_index=True)\n",
    "#df_mix1_test['goal1']=df_mix1_test['goal1'].astype(int)\n",
    "#df_mix1_test['goal2']=df_mix1_test['goal2'].astype(int)\n",
    "#print(df_mix1_test.dtypes)\n",
    "\n",
    "#df_mix1_test\n"
   ]
  },
  {
   "cell_type": "code",
   "execution_count": 199,
   "metadata": {},
   "outputs": [
    {
     "data": {
      "text/html": [
       "<div>\n",
       "<style scoped>\n",
       "    .dataframe tbody tr th:only-of-type {\n",
       "        vertical-align: middle;\n",
       "    }\n",
       "\n",
       "    .dataframe tbody tr th {\n",
       "        vertical-align: top;\n",
       "    }\n",
       "\n",
       "    .dataframe thead th {\n",
       "        text-align: right;\n",
       "    }\n",
       "</style>\n",
       "<table border=\"1\" class=\"dataframe\">\n",
       "  <thead>\n",
       "    <tr style=\"text-align: right;\">\n",
       "      <th></th>\n",
       "      <th>id</th>\n",
       "      <th>goal</th>\n",
       "      <th>country</th>\n",
       "      <th>duration</th>\n",
       "      <th>category1</th>\n",
       "      <th>category2</th>\n",
       "      <th>html_content</th>\n",
       "    </tr>\n",
       "  </thead>\n",
       "  <tbody>\n",
       "    <tr>\n",
       "      <th>0</th>\n",
       "      <td>1</td>\n",
       "      <td>1000</td>\n",
       "      <td>US</td>\n",
       "      <td>60</td>\n",
       "      <td>dance</td>\n",
       "      <td>performances</td>\n",
       "      <td>&lt;div class=\"contents\"&gt;&lt;div&gt;&lt;p&gt;We are presentin...</td>\n",
       "    </tr>\n",
       "    <tr>\n",
       "      <th>1</th>\n",
       "      <td>8001</td>\n",
       "      <td>9000</td>\n",
       "      <td>US</td>\n",
       "      <td>30</td>\n",
       "      <td>crafts</td>\n",
       "      <td>printing</td>\n",
       "      <td>&lt;div class=\"contents\"&gt;&lt;div&gt;&lt;a href=\"http://dum...</td>\n",
       "    </tr>\n",
       "    <tr>\n",
       "      <th>2</th>\n",
       "      <td>9001</td>\n",
       "      <td>10000</td>\n",
       "      <td>US</td>\n",
       "      <td>60</td>\n",
       "      <td>design</td>\n",
       "      <td>product design</td>\n",
       "      <td>&lt;div class=\"contents\"&gt;&lt;div&gt;&lt;div class=\"templat...</td>\n",
       "    </tr>\n",
       "    <tr>\n",
       "      <th>3</th>\n",
       "      <td>1001</td>\n",
       "      <td>2000</td>\n",
       "      <td>US</td>\n",
       "      <td>30</td>\n",
       "      <td>technology</td>\n",
       "      <td>software</td>\n",
       "      <td>&lt;div class=\"contents\"&gt;&lt;div&gt;&lt;p&gt;This is my video...</td>\n",
       "    </tr>\n",
       "    <tr>\n",
       "      <th>4</th>\n",
       "      <td>4001</td>\n",
       "      <td>5000</td>\n",
       "      <td>US</td>\n",
       "      <td>59</td>\n",
       "      <td>technology</td>\n",
       "      <td>software</td>\n",
       "      <td>&lt;div class=\"contents\"&gt;&lt;div&gt;&lt;h1 class=\"page-anc...</td>\n",
       "    </tr>\n",
       "    <tr>\n",
       "      <th>...</th>\n",
       "      <td>...</td>\n",
       "      <td>...</td>\n",
       "      <td>...</td>\n",
       "      <td>...</td>\n",
       "      <td>...</td>\n",
       "      <td>...</td>\n",
       "      <td>...</td>\n",
       "    </tr>\n",
       "    <tr>\n",
       "      <th>10539</th>\n",
       "      <td>9001</td>\n",
       "      <td>10000</td>\n",
       "      <td>US</td>\n",
       "      <td>30</td>\n",
       "      <td>food</td>\n",
       "      <td>drinks</td>\n",
       "      <td>&lt;div class=\"contents\"&gt;&lt;div&gt;&lt;p&gt;Its time to get ...</td>\n",
       "    </tr>\n",
       "    <tr>\n",
       "      <th>10540</th>\n",
       "      <td>1</td>\n",
       "      <td>1000</td>\n",
       "      <td>US</td>\n",
       "      <td>29</td>\n",
       "      <td>food</td>\n",
       "      <td>small batch</td>\n",
       "      <td>&lt;div class=\"contents\"&gt;&lt;div&gt;&lt;p&gt;I have been roas...</td>\n",
       "    </tr>\n",
       "    <tr>\n",
       "      <th>10541</th>\n",
       "      <td>1001</td>\n",
       "      <td>2000</td>\n",
       "      <td>US</td>\n",
       "      <td>27</td>\n",
       "      <td>crafts</td>\n",
       "      <td>pottery</td>\n",
       "      <td>&lt;div class=\"contents\"&gt;&lt;div&gt;&lt;p&gt;         I have ...</td>\n",
       "    </tr>\n",
       "    <tr>\n",
       "      <th>10542</th>\n",
       "      <td>2001</td>\n",
       "      <td>3000</td>\n",
       "      <td>US</td>\n",
       "      <td>30</td>\n",
       "      <td>design</td>\n",
       "      <td>graphic design</td>\n",
       "      <td>&lt;div class=\"contents\"&gt;&lt;div&gt;&lt;h1 class=\"page-anc...</td>\n",
       "    </tr>\n",
       "    <tr>\n",
       "      <th>10543</th>\n",
       "      <td>1001</td>\n",
       "      <td>2000</td>\n",
       "      <td>US</td>\n",
       "      <td>30</td>\n",
       "      <td>fashion</td>\n",
       "      <td>ready-to-wear</td>\n",
       "      <td>&lt;div class=\"contents\"&gt;&lt;div&gt;&lt;p&gt;I have been deve...</td>\n",
       "    </tr>\n",
       "  </tbody>\n",
       "</table>\n",
       "<p>10544 rows × 7 columns</p>\n",
       "</div>"
      ],
      "text/plain": [
       "         id   goal country  duration   category1       category2  \\\n",
       "0         1   1000      US        60       dance    performances   \n",
       "1      8001   9000      US        30      crafts        printing   \n",
       "2      9001  10000      US        60      design  product design   \n",
       "3      1001   2000      US        30  technology        software   \n",
       "4      4001   5000      US        59  technology        software   \n",
       "...     ...    ...     ...       ...         ...             ...   \n",
       "10539  9001  10000      US        30        food          drinks   \n",
       "10540     1   1000      US        29        food     small batch   \n",
       "10541  1001   2000      US        27      crafts         pottery   \n",
       "10542  2001   3000      US        30      design  graphic design   \n",
       "10543  1001   2000      US        30     fashion   ready-to-wear   \n",
       "\n",
       "                                            html_content  \n",
       "0      <div class=\"contents\"><div><p>We are presentin...  \n",
       "1      <div class=\"contents\"><div><a href=\"http://dum...  \n",
       "2      <div class=\"contents\"><div><div class=\"templat...  \n",
       "3      <div class=\"contents\"><div><p>This is my video...  \n",
       "4      <div class=\"contents\"><div><h1 class=\"page-anc...  \n",
       "...                                                  ...  \n",
       "10539  <div class=\"contents\"><div><p>Its time to get ...  \n",
       "10540  <div class=\"contents\"><div><p>I have been roas...  \n",
       "10541  <div class=\"contents\"><div><p>         I have ...  \n",
       "10542  <div class=\"contents\"><div><h1 class=\"page-anc...  \n",
       "10543  <div class=\"contents\"><div><p>I have been deve...  \n",
       "\n",
       "[10544 rows x 7 columns]"
      ]
     },
     "execution_count": 199,
     "metadata": {},
     "output_type": "execute_result"
    }
   ],
   "source": [
    "train['goal']=goal2\n",
    "train['id']=goal1\n",
    "test['goal']=goal2_test\n",
    "test['id']=goal1_test\n",
    "test"
   ]
  },
  {
   "cell_type": "code",
   "execution_count": 200,
   "metadata": {},
   "outputs": [
    {
     "data": {
      "text/html": [
       "<div>\n",
       "<style scoped>\n",
       "    .dataframe tbody tr th:only-of-type {\n",
       "        vertical-align: middle;\n",
       "    }\n",
       "\n",
       "    .dataframe tbody tr th {\n",
       "        vertical-align: top;\n",
       "    }\n",
       "\n",
       "    .dataframe thead th {\n",
       "        text-align: right;\n",
       "    }\n",
       "</style>\n",
       "<table border=\"1\" class=\"dataframe\">\n",
       "  <thead>\n",
       "    <tr style=\"text-align: right;\">\n",
       "      <th></th>\n",
       "      <th>id</th>\n",
       "      <th>goal</th>\n",
       "      <th>country</th>\n",
       "      <th>duration</th>\n",
       "      <th>category1</th>\n",
       "      <th>category2</th>\n",
       "      <th>html_content</th>\n",
       "      <th>state</th>\n",
       "    </tr>\n",
       "  </thead>\n",
       "  <tbody>\n",
       "    <tr>\n",
       "      <th>0</th>\n",
       "      <td>4001</td>\n",
       "      <td>5000</td>\n",
       "      <td>CH</td>\n",
       "      <td>29</td>\n",
       "      <td>publishing</td>\n",
       "      <td>young adult</td>\n",
       "      <td>&lt;div class=\"contents\"&gt;&lt;div&gt;&lt;span class=\"bold\"&gt;...</td>\n",
       "      <td>0</td>\n",
       "    </tr>\n",
       "    <tr>\n",
       "      <th>1</th>\n",
       "      <td>3001</td>\n",
       "      <td>4000</td>\n",
       "      <td>NL</td>\n",
       "      <td>34</td>\n",
       "      <td>fashion</td>\n",
       "      <td>ready-to-wear</td>\n",
       "      <td>&lt;div class=\"contents\"&gt;&lt;div&gt;&lt;h1 class=\"page-anc...</td>\n",
       "      <td>0</td>\n",
       "    </tr>\n",
       "    <tr>\n",
       "      <th>2</th>\n",
       "      <td>19001</td>\n",
       "      <td>20000</td>\n",
       "      <td>US</td>\n",
       "      <td>30</td>\n",
       "      <td>food</td>\n",
       "      <td>spaces</td>\n",
       "      <td>&lt;div class=\"contents\"&gt;&lt;div&gt;&lt;p&gt; As our society ...</td>\n",
       "      <td>0</td>\n",
       "    </tr>\n",
       "    <tr>\n",
       "      <th>3</th>\n",
       "      <td>2001</td>\n",
       "      <td>3000</td>\n",
       "      <td>US</td>\n",
       "      <td>41</td>\n",
       "      <td>technology</td>\n",
       "      <td>3d printing</td>\n",
       "      <td>&lt;div class=\"contents\"&gt;&lt;div&gt;&lt;p&gt;My name is Donal...</td>\n",
       "      <td>0</td>\n",
       "    </tr>\n",
       "    <tr>\n",
       "      <th>4</th>\n",
       "      <td>2001</td>\n",
       "      <td>3000</td>\n",
       "      <td>GB</td>\n",
       "      <td>29</td>\n",
       "      <td>technology</td>\n",
       "      <td>diy electronics</td>\n",
       "      <td>&lt;div class=\"contents\"&gt;&lt;div&gt;&lt;div class=\"templat...</td>\n",
       "      <td>1</td>\n",
       "    </tr>\n",
       "    <tr>\n",
       "      <th>...</th>\n",
       "      <td>...</td>\n",
       "      <td>...</td>\n",
       "      <td>...</td>\n",
       "      <td>...</td>\n",
       "      <td>...</td>\n",
       "      <td>...</td>\n",
       "      <td>...</td>\n",
       "      <td>...</td>\n",
       "    </tr>\n",
       "    <tr>\n",
       "      <th>10540</th>\n",
       "      <td>1</td>\n",
       "      <td>1000</td>\n",
       "      <td>GB</td>\n",
       "      <td>30</td>\n",
       "      <td>film &amp; video</td>\n",
       "      <td>experimental</td>\n",
       "      <td>&lt;div class=\"contents\"&gt;&lt;div&gt;&lt;h1 class=\"page-anc...</td>\n",
       "      <td>0</td>\n",
       "    </tr>\n",
       "    <tr>\n",
       "      <th>10541</th>\n",
       "      <td>1</td>\n",
       "      <td>1000</td>\n",
       "      <td>US</td>\n",
       "      <td>29</td>\n",
       "      <td>journalism</td>\n",
       "      <td>web</td>\n",
       "      <td>&lt;div class=\"contents\"&gt;&lt;div&gt;&lt;p&gt;This past Novemb...</td>\n",
       "      <td>0</td>\n",
       "    </tr>\n",
       "    <tr>\n",
       "      <th>10542</th>\n",
       "      <td>19001</td>\n",
       "      <td>20000</td>\n",
       "      <td>US</td>\n",
       "      <td>33</td>\n",
       "      <td>journalism</td>\n",
       "      <td>web</td>\n",
       "      <td>&lt;div class=\"contents\"&gt;&lt;div&gt;&lt;p&gt;&lt;span class=\"bol...</td>\n",
       "      <td>0</td>\n",
       "    </tr>\n",
       "    <tr>\n",
       "      <th>10543</th>\n",
       "      <td>1</td>\n",
       "      <td>1000</td>\n",
       "      <td>FR</td>\n",
       "      <td>30</td>\n",
       "      <td>comics</td>\n",
       "      <td>comic books</td>\n",
       "      <td>&lt;div class=\"contents\"&gt;&lt;div&gt;&lt;h1 class=\"page-anc...</td>\n",
       "      <td>1</td>\n",
       "    </tr>\n",
       "    <tr>\n",
       "      <th>10544</th>\n",
       "      <td>74001</td>\n",
       "      <td>75000</td>\n",
       "      <td>US</td>\n",
       "      <td>60</td>\n",
       "      <td>food</td>\n",
       "      <td>spaces</td>\n",
       "      <td>&lt;div class=\"contents\"&gt;&lt;div&gt;&lt;p&gt;Do you take your...</td>\n",
       "      <td>0</td>\n",
       "    </tr>\n",
       "  </tbody>\n",
       "</table>\n",
       "<p>10545 rows × 8 columns</p>\n",
       "</div>"
      ],
      "text/plain": [
       "          id   goal country  duration     category1        category2  \\\n",
       "0       4001   5000      CH        29    publishing      young adult   \n",
       "1       3001   4000      NL        34       fashion    ready-to-wear   \n",
       "2      19001  20000      US        30          food           spaces   \n",
       "3       2001   3000      US        41    technology      3d printing   \n",
       "4       2001   3000      GB        29    technology  diy electronics   \n",
       "...      ...    ...     ...       ...           ...              ...   \n",
       "10540      1   1000      GB        30  film & video     experimental   \n",
       "10541      1   1000      US        29    journalism              web   \n",
       "10542  19001  20000      US        33    journalism              web   \n",
       "10543      1   1000      FR        30        comics      comic books   \n",
       "10544  74001  75000      US        60          food           spaces   \n",
       "\n",
       "                                            html_content  state  \n",
       "0      <div class=\"contents\"><div><span class=\"bold\">...      0  \n",
       "1      <div class=\"contents\"><div><h1 class=\"page-anc...      0  \n",
       "2      <div class=\"contents\"><div><p> As our society ...      0  \n",
       "3      <div class=\"contents\"><div><p>My name is Donal...      0  \n",
       "4      <div class=\"contents\"><div><div class=\"templat...      1  \n",
       "...                                                  ...    ...  \n",
       "10540  <div class=\"contents\"><div><h1 class=\"page-anc...      0  \n",
       "10541  <div class=\"contents\"><div><p>This past Novemb...      0  \n",
       "10542  <div class=\"contents\"><div><p><span class=\"bol...      0  \n",
       "10543  <div class=\"contents\"><div><h1 class=\"page-anc...      1  \n",
       "10544  <div class=\"contents\"><div><p>Do you take your...      0  \n",
       "\n",
       "[10545 rows x 8 columns]"
      ]
     },
     "execution_count": 200,
     "metadata": {},
     "output_type": "execute_result"
    }
   ],
   "source": [
    "train"
   ]
  },
  {
   "cell_type": "markdown",
   "metadata": {},
   "source": [
    "# 文章の処理"
   ]
  },
  {
   "cell_type": "code",
   "execution_count": 23,
   "metadata": {},
   "outputs": [
    {
     "name": "stdout",
     "output_type": "stream",
     "text": [
      "Requirement already satisfied: nltk in /opt/anaconda3/envs/ai_master/lib/python3.6/site-packages (3.5)\r\n",
      "Requirement already satisfied: click in /opt/anaconda3/envs/ai_master/lib/python3.6/site-packages (from nltk) (7.1.2)\r\n",
      "Requirement already satisfied: regex in /opt/anaconda3/envs/ai_master/lib/python3.6/site-packages (from nltk) (2020.11.13)\r\n",
      "Requirement already satisfied: tqdm in /opt/anaconda3/envs/ai_master/lib/python3.6/site-packages (from nltk) (4.55.0)\r\n",
      "Requirement already satisfied: joblib in /opt/anaconda3/envs/ai_master/lib/python3.6/site-packages (from nltk) (1.0.0)\r\n"
     ]
    }
   ],
   "source": [
    "import nltk\n",
    "nltk.download('all')"
   ]
  },
  {
   "cell_type": "code",
   "execution_count": 99,
   "metadata": {},
   "outputs": [
    {
     "data": {
      "text/plain": [
       "state             0\n",
       "html_content    266\n",
       "dtype: int64"
      ]
     },
     "execution_count": 99,
     "metadata": {},
     "output_type": "execute_result"
    }
   ],
   "source": [
    "train_html_content=pd.read_csv('train_after.csv')\n",
    "test_html_content=pd.read_csv('test_after.csv')\n",
    "train_html_content=train_html_content[['state','html_content']]\n",
    "test_html_content=test_html_content['html_content']\n"
   ]
  },
  {
   "cell_type": "code",
   "execution_count": 201,
   "metadata": {},
   "outputs": [],
   "source": [
    "text_train=list(train['html_content'])\n",
    "text_test=list(test['html_content'])"
   ]
  },
  {
   "cell_type": "code",
   "execution_count": 202,
   "metadata": {},
   "outputs": [],
   "source": [
    "import re\n",
    "#\\nはもう少し考えよう\n",
    "for i in range(len(text_test)):\n",
    "    text_test[i]=re.sub('<[^>]+>','',text_test[i])\n",
    "    text_test[i]=re.sub('\\xa0','',text_test[i])\n",
    "    text_test[i]=re.sub('(\\n){2,100}',' ',text_test[i])\n",
    "    text_test[i]=re.sub('(\\n)','.',text_test[i])\n",
    "    text_test[i]=re.sub('[ぁ-ん]','',text_test[i])\n",
    "    text_test[i]=re.sub('[ァ-ン]','',text_test[i])\n",
    "    text_test[i]=re.sub('[一-龥]','',text_test[i])\n",
    "    text_test[i]=re.sub('。','',text_test[i])\n",
    "    \n",
    "    text_test[i]=re.sub('00:00','',text_test[i])\n",
    "    text_test[i]=text_test[i].replace('HTML5','video.',)\n",
    "\n",
    "    \n",
    "#ピリオド蓮ちゃんはピリオドできって文字数が少なかったら捨てればいい"
   ]
  },
  {
   "cell_type": "code",
   "execution_count": 203,
   "metadata": {},
   "outputs": [],
   "source": [
    "for i in range(len(text_train)):\n",
    "    text_train[i]=re.sub('<[^>]+>','',text_train[i])\n",
    "    text_train[i]=re.sub('\\xa0','',text_train[i])\n",
    "    text_train[i]=re.sub('(\\n){2,100}',' ',text_train[i])\n",
    "    text_train[i]=re.sub('\\n','.',text_train[i])\n",
    "   \n",
    "    text_train[i]=re.sub('[ぁ-ん]','',text_train[i])\n",
    "    text_train[i]=re.sub('[ァ-ン]','',text_train[i])\n",
    "    text_train[i]=re.sub('[一-龥]','',text_train[i])\n",
    "    text_train[i]=re.sub('。','',text_train[i])\n",
    "    text_train[i]=text_train[i].replace('HTML5','video.',)\n",
    "    text_train[i]=re.sub('00:00','',text_train[i])\n",
    "    "
   ]
  },
  {
   "cell_type": "code",
   "execution_count": 50,
   "metadata": {},
   "outputs": [],
   "source": [
    "separator = \".\"\n",
    "\n",
    "for i in range(len(text_train)):\n",
    "    text_train[i]=text_train[i].split(separator)\n",
    "    text_train[i].pop()\n",
    "    text_train[i]=[x+separator for x in text_train[i]]"
   ]
  },
  {
   "cell_type": "code",
   "execution_count": 51,
   "metadata": {},
   "outputs": [],
   "source": [
    "for i in range(len(text_test)):\n",
    "    text_test[i]=text_test[i].split(separator)\n",
    "    text_test[i].pop()\n",
    "    text_test[i]=[x+separator for x in text_test[i]]"
   ]
  },
  {
   "cell_type": "code",
   "execution_count": 52,
   "metadata": {},
   "outputs": [],
   "source": [
    "#ピリオド処理\n",
    "for i in range(len(text_train)):\n",
    "    if '.' in text_train[i] :\n",
    "        while '.' in text_train[i]:\n",
    "            text_train[i].remove('.')"
   ]
  },
  {
   "cell_type": "code",
   "execution_count": 53,
   "metadata": {},
   "outputs": [
    {
     "data": {
      "text/plain": [
       "['We are presenting two new important works featuring an accomplished case of dancers.',\n",
       " ' I want to be able to pay this case of dancers as much as possible, please dontate to hlep us accomplish this task.',\n",
       " 'All proceeds generated will go directly to all the dancers, who have all donated their time, energy and creativity to make .',\n",
       " 'this dance work possible! These two works would not exist without their contribution.',\n",
       " 'Shifting Earth, explores the effects of change that life can unexpectedly bring to the human experience.',\n",
       " ' Like the harsh and sudden movements of the tectonic plates beneath earth’s surface, life shifts in unexpected ways that make us vulnerable to sudden loss and illness that rapidly forces us to undergo monumental shifts that change our paths forever, forcing us to adapt.',\n",
       " ' Rapid change is brought to life onstage with great kinetic waves of motion, punctuated by moments of stillness.',\n",
       " ' Dancers create sharp angles and slicing limbs that segue into liquid curves with startlingly ephemeral shifts of weight.',\n",
       " ' .',\n",
       " 'There is a continuous play with the space by building patterns that develop into a non-linear organic movement narrative to create a sudden feeling of trying to catch a fall, almost as if someone had pulled a rug out from under your feet.',\n",
       " ' Before we catch ourselves it is as if we are floating in time, until we are able to adapt and move forward.',\n",
       " ' The Body Becomes The Messenger (2016), a dance that explores how the body informs our emotional, physical and spiritual lives.',\n",
       " '  Through the use of body language, gestures, and projection of energy through breath and muscular effort, providing a gateway for the viewer to observe an abstract portrait of the body in transformation.',\n",
       " ' The Body Becomes the Messenger’s movement is sourced from deep places, its intention is to bring awareness to the strength of the body, its language and the power we each hold inside.']"
      ]
     },
     "execution_count": 53,
     "metadata": {},
     "output_type": "execute_result"
    }
   ],
   "source": [
    "for i in range(len(text_test)):\n",
    "    if '.' in text_test[i] :\n",
    "        while '.' in text_test[i]:\n",
    "            text_test[i].remove('.')\n",
    "            \n",
    "text_test[0]"
   ]
  },
  {
   "cell_type": "code",
   "execution_count": null,
   "metadata": {},
   "outputs": [],
   "source": []
  },
  {
   "cell_type": "code",
   "execution_count": null,
   "metadata": {},
   "outputs": [],
   "source": []
  },
  {
   "cell_type": "code",
   "execution_count": 123,
   "metadata": {},
   "outputs": [],
   "source": [
    "\n",
    "import os\n",
    "import numpy as np\n",
    "from sklearn.model_selection import train_test_split\n",
    "import tensorflow as tf\n",
    "import tensorflow_hub as hub\n",
    "import tensorflow_datasets as tfds\n",
    "from tensorflow import keras\n",
    "\n",
    "\n",
    "os.environ[\"TFHUB_MODEL_LOAD_FORMAT\"] = \"COMPRESSED\""
   ]
  },
  {
   "cell_type": "code",
   "execution_count": 186,
   "metadata": {},
   "outputs": [],
   "source": [
    "train_data=list(text_train)\n",
    "train_label=list(train['state'])\n",
    "test_data=list(text_test)"
   ]
  },
  {
   "cell_type": "code",
   "execution_count": 113,
   "metadata": {},
   "outputs": [],
   "source": [
    "x_train,x_test,y_train,y_test = train_test_split(train_data,train_label, test_size=0.2)"
   ]
  },
  {
   "cell_type": "code",
   "execution_count": 143,
   "metadata": {},
   "outputs": [
    {
     "name": "stdout",
     "output_type": "stream",
     "text": [
      "WARNING:tensorflow:6 out of the last 6 calls to <function recreate_function.<locals>.restored_function_body at 0x7fc171033ea0> triggered tf.function retracing. Tracing is expensive and the excessive number of tracings could be due to (1) creating @tf.function repeatedly in a loop, (2) passing tensors with different shapes, (3) passing Python objects instead of tensors. For (1), please define your @tf.function outside of the loop. For (2), @tf.function has experimental_relax_shapes=True option that relaxes argument shapes that can avoid unnecessary retracing. For (3), please refer to https://www.tensorflow.org/guide/function#controlling_retracing and https://www.tensorflow.org/api_docs/python/tf/function for  more details.\n"
     ]
    },
    {
     "name": "stderr",
     "output_type": "stream",
     "text": [
      "WARNING:tensorflow:6 out of the last 6 calls to <function recreate_function.<locals>.restored_function_body at 0x7fc171033ea0> triggered tf.function retracing. Tracing is expensive and the excessive number of tracings could be due to (1) creating @tf.function repeatedly in a loop, (2) passing tensors with different shapes, (3) passing Python objects instead of tensors. For (1), please define your @tf.function outside of the loop. For (2), @tf.function has experimental_relax_shapes=True option that relaxes argument shapes that can avoid unnecessary retracing. For (3), please refer to https://www.tensorflow.org/guide/function#controlling_retracing and https://www.tensorflow.org/api_docs/python/tf/function for  more details.\n"
     ]
    },
    {
     "name": "stdout",
     "output_type": "stream",
     "text": [
      "WARNING:tensorflow:7 out of the last 7 calls to <function recreate_function.<locals>.restored_function_body at 0x7fc170457598> triggered tf.function retracing. Tracing is expensive and the excessive number of tracings could be due to (1) creating @tf.function repeatedly in a loop, (2) passing tensors with different shapes, (3) passing Python objects instead of tensors. For (1), please define your @tf.function outside of the loop. For (2), @tf.function has experimental_relax_shapes=True option that relaxes argument shapes that can avoid unnecessary retracing. For (3), please refer to https://www.tensorflow.org/guide/function#controlling_retracing and https://www.tensorflow.org/api_docs/python/tf/function for  more details.\n"
     ]
    },
    {
     "name": "stderr",
     "output_type": "stream",
     "text": [
      "WARNING:tensorflow:7 out of the last 7 calls to <function recreate_function.<locals>.restored_function_body at 0x7fc170457598> triggered tf.function retracing. Tracing is expensive and the excessive number of tracings could be due to (1) creating @tf.function repeatedly in a loop, (2) passing tensors with different shapes, (3) passing Python objects instead of tensors. For (1), please define your @tf.function outside of the loop. For (2), @tf.function has experimental_relax_shapes=True option that relaxes argument shapes that can avoid unnecessary retracing. For (3), please refer to https://www.tensorflow.org/guide/function#controlling_retracing and https://www.tensorflow.org/api_docs/python/tf/function for  more details.\n"
     ]
    }
   ],
   "source": [
    "#データの確認\n",
    "embedding = \"https://tfhub.dev/google/nnlm-en-dim50/2\"\n",
    "hub_layer = hub.KerasLayer(embedding, input_shape=[], \n",
    "                           dtype=tf.string, trainable=True)"
   ]
  },
  {
   "cell_type": "code",
   "execution_count": 153,
   "metadata": {},
   "outputs": [
    {
     "name": "stdout",
     "output_type": "stream",
     "text": [
      "Model: \"sequential_18\"\n",
      "_________________________________________________________________\n",
      "Layer (type)                 Output Shape              Param #   \n",
      "=================================================================\n",
      "keras_layer_2 (KerasLayer)   (None, 50)                48190600  \n",
      "_________________________________________________________________\n",
      "dense_48 (Dense)             (None, 16)                816       \n",
      "_________________________________________________________________\n",
      "dropout_24 (Dropout)         (None, 16)                0         \n",
      "_________________________________________________________________\n",
      "dense_49 (Dense)             (None, 4)                 68        \n",
      "_________________________________________________________________\n",
      "dropout_25 (Dropout)         (None, 4)                 0         \n",
      "_________________________________________________________________\n",
      "dense_50 (Dense)             (None, 1)                 5         \n",
      "=================================================================\n",
      "Total params: 48,191,489\n",
      "Trainable params: 48,191,489\n",
      "Non-trainable params: 0\n",
      "_________________________________________________________________\n"
     ]
    }
   ],
   "source": [
    "model = tf.keras.Sequential()\n",
    "model.add(hub_layer)\n",
    "model.add(tf.keras.layers.Dense(16, activation='relu'))\n",
    "model.add(tf.keras.layers.Dropout(0.5))\n",
    "model.add(tf.keras.layers.Dense(4, activation='relu'))\n",
    "model.add(tf.keras.layers.Dropout(0.5))\n",
    "model.add(tf.keras.layers.Dense(1,activation='sigmoid'))\n",
    "\n",
    "model.summary()"
   ]
  },
  {
   "cell_type": "code",
   "execution_count": 154,
   "metadata": {},
   "outputs": [],
   "source": [
    "model.compile(optimizer='adam',\n",
    "              loss=tf.keras.losses.BinaryCrossentropy(from_logits=True),\n",
    "         metrics=['accuracy'])"
   ]
  },
  {
   "cell_type": "code",
   "execution_count": 155,
   "metadata": {},
   "outputs": [
    {
     "name": "stdout",
     "output_type": "stream",
     "text": [
      "Epoch 1/15\n",
      "17/17 [==============================] - 11s 576ms/step - loss: 0.7065 - accuracy: 0.4981 - val_loss: 0.6902 - val_accuracy: 0.5837\n",
      "Epoch 2/15\n",
      "17/17 [==============================] - 9s 534ms/step - loss: 0.6881 - accuracy: 0.5348 - val_loss: 0.6816 - val_accuracy: 0.6311\n",
      "Epoch 3/15\n",
      "17/17 [==============================] - 9s 536ms/step - loss: 0.6781 - accuracy: 0.5684 - val_loss: 0.6762 - val_accuracy: 0.6396\n",
      "Epoch 4/15\n",
      "17/17 [==============================] - 9s 540ms/step - loss: 0.6702 - accuracy: 0.6001 - val_loss: 0.6683 - val_accuracy: 0.6543\n",
      "Epoch 5/15\n",
      "17/17 [==============================] - 9s 540ms/step - loss: 0.6639 - accuracy: 0.6158 - val_loss: 0.6606 - val_accuracy: 0.6615\n",
      "Epoch 6/15\n",
      "17/17 [==============================] - 9s 540ms/step - loss: 0.6486 - accuracy: 0.6371 - val_loss: 0.6502 - val_accuracy: 0.6705\n",
      "Epoch 7/15\n",
      "17/17 [==============================] - 9s 541ms/step - loss: 0.6377 - accuracy: 0.6680 - val_loss: 0.6357 - val_accuracy: 0.6752\n",
      "Epoch 8/15\n",
      "17/17 [==============================] - 9s 543ms/step - loss: 0.6193 - accuracy: 0.6717 - val_loss: 0.6190 - val_accuracy: 0.6795\n",
      "Epoch 9/15\n",
      "17/17 [==============================] - 9s 543ms/step - loss: 0.5968 - accuracy: 0.6962 - val_loss: 0.6025 - val_accuracy: 0.6908\n",
      "Epoch 10/15\n",
      "17/17 [==============================] - 9s 545ms/step - loss: 0.5850 - accuracy: 0.6992 - val_loss: 0.5933 - val_accuracy: 0.7008\n",
      "Epoch 11/15\n",
      "17/17 [==============================] - 9s 547ms/step - loss: 0.5495 - accuracy: 0.7398 - val_loss: 0.5807 - val_accuracy: 0.7074\n",
      "Epoch 12/15\n",
      "17/17 [==============================] - 9s 547ms/step - loss: 0.5252 - accuracy: 0.7591 - val_loss: 0.5722 - val_accuracy: 0.7103\n",
      "Epoch 13/15\n",
      "17/17 [==============================] - 9s 547ms/step - loss: 0.5040 - accuracy: 0.7682 - val_loss: 0.5628 - val_accuracy: 0.7183\n",
      "Epoch 14/15\n",
      "17/17 [==============================] - 9s 552ms/step - loss: 0.4656 - accuracy: 0.8024 - val_loss: 0.5659 - val_accuracy: 0.7212\n",
      "Epoch 15/15\n",
      "17/17 [==============================] - 9s 545ms/step - loss: 0.4479 - accuracy: 0.8143 - val_loss: 0.5812 - val_accuracy: 0.7169\n"
     ]
    }
   ],
   "source": [
    "history = model.fit(x_train,y_train,\n",
    "                    epochs=15,\n",
    "                    validation_data=(x_test,y_test),\n",
    "                    batch_size=512,\n",
    "                    verbose=1)"
   ]
  },
  {
   "cell_type": "code",
   "execution_count": 71,
   "metadata": {},
   "outputs": [
    {
     "data": {
      "text/plain": [
       "array([[0.9271548 ],\n",
       "       [0.9783325 ],\n",
       "       [0.93736583],\n",
       "       [0.16587296],\n",
       "       [0.736814  ],\n",
       "       [0.13207802],\n",
       "       [0.01033229],\n",
       "       [0.35151166],\n",
       "       [0.97450733],\n",
       "       [0.14742455]], dtype=float32)"
      ]
     },
     "execution_count": 71,
     "metadata": {},
     "output_type": "execute_result"
    }
   ],
   "source": [
    "y_pred_text=model.predict(text_test)\n",
    "y_pred_text[:10]"
   ]
  },
  {
   "cell_type": "code",
   "execution_count": 156,
   "metadata": {},
   "outputs": [
    {
     "data": {
      "text/plain": [
       "array([[0.70085776],\n",
       "       [0.67597663],\n",
       "       [0.6693908 ],\n",
       "       [0.11735347],\n",
       "       [0.29239422],\n",
       "       [0.07951677],\n",
       "       [0.02101091],\n",
       "       [0.33199185],\n",
       "       [0.71690065],\n",
       "       [0.07773942]], dtype=float32)"
      ]
     },
     "execution_count": 156,
     "metadata": {},
     "output_type": "execute_result"
    }
   ],
   "source": [
    "y_pred_text=model.predict(text_test)\n",
    "y_pred_text[:10]"
   ]
  },
  {
   "cell_type": "code",
   "execution_count": 158,
   "metadata": {},
   "outputs": [
    {
     "data": {
      "image/png": "[encoded data removed]",
      "text/plain": [
       "<Figure size 432x288 with 1 Axes>"
      ]
     },
     "metadata": {
      "needs_background": "light"
     },
     "output_type": "display_data"
    }
   ],
   "source": [
    "import matplotlib.pyplot as plt\n",
    "%matplotlib inline\n",
    " \n",
    "plt.plot(range(1, 16), history.history['accuracy'], label=\"training\")\n",
    "plt.plot(range(1, 16), history.history['val_accuracy'], label=\"validation\")\n",
    "plt.xlabel('Epochs')\n",
    "plt.ylabel('Accuracy')\n",
    "plt.legend()\n",
    "plt.show()\n"
   ]
  },
  {
   "cell_type": "code",
   "execution_count": 131,
   "metadata": {},
   "outputs": [
    {
     "data": {
      "text/plain": [
       "array([[0.7710059 ],\n",
       "       [0.86094505],\n",
       "       [0.75724053],\n",
       "       [0.17971426],\n",
       "       [0.6818955 ],\n",
       "       [0.15758935],\n",
       "       [0.0156168 ],\n",
       "       [0.35443962],\n",
       "       [0.79827356],\n",
       "       [0.2839621 ]], dtype=float32)"
      ]
     },
     "execution_count": 131,
     "metadata": {},
     "output_type": "execute_result"
    }
   ],
   "source": [
    "y_pred_text[:10]"
   ]
  },
  {
   "cell_type": "markdown",
   "metadata": {},
   "source": [
    "# データの書き出し"
   ]
  },
  {
   "cell_type": "code",
   "execution_count": 204,
   "metadata": {},
   "outputs": [],
   "source": [
    "text_train=pd.DataFrame(train_data)\n",
    "text_test=pd.DataFrame(test_data)\n",
    "train['html_content']= text_train\n",
    "\n",
    "test['html_content']=text_test"
   ]
  },
  {
   "cell_type": "code",
   "execution_count": 206,
   "metadata": {},
   "outputs": [],
   "source": [
    "train.to_csv('train_trans.csv',index=False)\n",
    "test.to_csv('test_trans.csv',index=False)"
   ]
  },
  {
   "cell_type": "code",
   "execution_count": 223,
   "metadata": {},
   "outputs": [
    {
     "data": {
      "text/html": [
       "<div>\n",
       "<style scoped>\n",
       "    .dataframe tbody tr th:only-of-type {\n",
       "        vertical-align: middle;\n",
       "    }\n",
       "\n",
       "    .dataframe tbody tr th {\n",
       "        vertical-align: top;\n",
       "    }\n",
       "\n",
       "    .dataframe thead th {\n",
       "        text-align: right;\n",
       "    }\n",
       "</style>\n",
       "<table border=\"1\" class=\"dataframe\">\n",
       "  <thead>\n",
       "    <tr style=\"text-align: right;\">\n",
       "      <th></th>\n",
       "      <th>html_content</th>\n",
       "      <th>state</th>\n",
       "    </tr>\n",
       "  </thead>\n",
       "  <tbody>\n",
       "    <tr>\n",
       "      <th>0</th>\n",
       "      <td>Mark Saggia is an Italian writer who emigrated...</td>\n",
       "      <td>0</td>\n",
       "    </tr>\n",
       "    <tr>\n",
       "      <th>1</th>\n",
       "      <td>Hello, I am Augustinas. I am a graphic designe...</td>\n",
       "      <td>0</td>\n",
       "    </tr>\n",
       "    <tr>\n",
       "      <th>2</th>\n",
       "      <td>As our society begins to wake up from the hang...</td>\n",
       "      <td>0</td>\n",
       "    </tr>\n",
       "    <tr>\n",
       "      <th>3</th>\n",
       "      <td>My name is Donald Osborne and I am an entrepre...</td>\n",
       "      <td>0</td>\n",
       "    </tr>\n",
       "    <tr>\n",
       "      <th>4</th>\n",
       "      <td>We all love to play, don't we! No matter the ...</td>\n",
       "      <td>1</td>\n",
       "    </tr>\n",
       "    <tr>\n",
       "      <th>...</th>\n",
       "      <td>...</td>\n",
       "      <td>...</td>\n",
       "    </tr>\n",
       "    <tr>\n",
       "      <th>10540</th>\n",
       "      <td>Dixie Crouch is a fully qualified Make-up art...</td>\n",
       "      <td>0</td>\n",
       "    </tr>\n",
       "    <tr>\n",
       "      <th>10541</th>\n",
       "      <td>This past November, I developed my own blog ca...</td>\n",
       "      <td>0</td>\n",
       "    </tr>\n",
       "    <tr>\n",
       "      <th>10542</th>\n",
       "      <td>What we are:.aSweatLife is an online media com...</td>\n",
       "      <td>0</td>\n",
       "    </tr>\n",
       "    <tr>\n",
       "      <th>10543</th>\n",
       "      <td>Belligerent - Synopsis.Neyla, à la mort de sa ...</td>\n",
       "      <td>1</td>\n",
       "    </tr>\n",
       "    <tr>\n",
       "      <th>10544</th>\n",
       "      <td>Do you take your dog on long car drives? Do yo...</td>\n",
       "      <td>0</td>\n",
       "    </tr>\n",
       "  </tbody>\n",
       "</table>\n",
       "<p>10545 rows × 2 columns</p>\n",
       "</div>"
      ],
      "text/plain": [
       "                                            html_content  state\n",
       "0      Mark Saggia is an Italian writer who emigrated...      0\n",
       "1      Hello, I am Augustinas. I am a graphic designe...      0\n",
       "2      As our society begins to wake up from the hang...      0\n",
       "3      My name is Donald Osborne and I am an entrepre...      0\n",
       "4       We all love to play, don't we! No matter the ...      1\n",
       "...                                                  ...    ...\n",
       "10540   Dixie Crouch is a fully qualified Make-up art...      0\n",
       "10541  This past November, I developed my own blog ca...      0\n",
       "10542  What we are:.aSweatLife is an online media com...      0\n",
       "10543  Belligerent - Synopsis.Neyla, à la mort de sa ...      1\n",
       "10544  Do you take your dog on long car drives? Do yo...      0\n",
       "\n",
       "[10545 rows x 2 columns]"
      ]
     },
     "execution_count": 223,
     "metadata": {},
     "output_type": "execute_result"
    }
   ],
   "source": [
    "train[['html_content','state']]"
   ]
  },
  {
   "cell_type": "code",
   "execution_count": 250,
   "metadata": {
    "scrolled": true
   },
   "outputs": [
    {
     "name": "stderr",
     "output_type": "stream",
     "text": [
      "Some weights of the model checkpoint at roberta-base were not used when initializing RobertaForSequenceClassification: ['lm_head.bias', 'lm_head.dense.weight', 'lm_head.dense.bias', 'lm_head.layer_norm.weight', 'lm_head.layer_norm.bias', 'lm_head.decoder.weight']\n",
      "- This IS expected if you are initializing RobertaForSequenceClassification from the checkpoint of a model trained on another task or with another architecture (e.g. initializing a BertForSequenceClassification model from a BertForPreTraining model).\n",
      "- This IS NOT expected if you are initializing RobertaForSequenceClassification from the checkpoint of a model that you expect to be exactly identical (initializing a BertForSequenceClassification model from a BertForSequenceClassification model).\n",
      "Some weights of RobertaForSequenceClassification were not initialized from the model checkpoint at roberta-base and are newly initialized: ['classifier.dense.weight', 'classifier.dense.bias', 'classifier.out_proj.weight', 'classifier.out_proj.bias']\n",
      "You should probably TRAIN this model on a down-stream task to be able to use it for predictions and inference.\n"
     ]
    }
   ],
   "source": [
    "from simpletransformers.classification import ClassificationModel\n",
    "\n",
    "#model_BERT= ClassificationModel('roberta', 'roberta-base',use_cuda=False)\n",
    "model_BERT= ClassificationModel('roberta', 'roberta-base',num_labels=1,  args={\n",
    "        \"regression\": True\n",
    "    },use_cuda=False)"
   ]
  },
  {
   "cell_type": "code",
   "execution_count": 253,
   "metadata": {
    "scrolled": true
   },
   "outputs": [
    {
     "data": {
      "application/vnd.jupyter.widget-view+json": {
       "model_id": "7ea2edaae6b440ebac38b0afbc4dc592",
       "version_major": 2,
       "version_minor": 0
      },
      "text/plain": [
       "  0%|          | 0/10545 [00:00<?, ?it/s]"
      ]
     },
     "metadata": {},
     "output_type": "display_data"
    },
    {
     "data": {
      "application/vnd.jupyter.widget-view+json": {
       "model_id": "45cea420a7194429a67f3b1f83ff57ce",
       "version_major": 2,
       "version_minor": 0
      },
      "text/plain": [
       "Epoch:   0%|          | 0/1 [00:00<?, ?it/s]"
      ]
     },
     "metadata": {},
     "output_type": "display_data"
    },
    {
     "data": {
      "application/vnd.jupyter.widget-view+json": {
       "model_id": "7878a52d5aed40c2a4a930037035ab97",
       "version_major": 2,
       "version_minor": 0
      },
      "text/plain": [
       "Running Epoch 0 of 1:   0%|          | 0/1319 [00:00<?, ?it/s]"
      ]
     },
     "metadata": {},
     "output_type": "display_data"
    },
    {
     "name": "stderr",
     "output_type": "stream",
     "text": [
      "/opt/anaconda3/envs/ai_master/lib/python3.6/site-packages/torch/optim/lr_scheduler.py:216: UserWarning: Please also save or load the state of the optimizer when saving or loading the scheduler.\n",
      "  warnings.warn(SAVE_STATE_WARNING, UserWarning)\n"
     ]
    },
    {
     "data": {
      "text/plain": [
       "(1319, 0.2478000746024568)"
      ]
     },
     "execution_count": 253,
     "metadata": {},
     "output_type": "execute_result"
    }
   ],
   "source": [
    "model_BERT.train_model(train[['html_content','state']])\n"
   ]
  },
  {
   "cell_type": "code",
   "execution_count": 254,
   "metadata": {},
   "outputs": [
    {
     "data": {
      "application/vnd.jupyter.widget-view+json": {
       "model_id": "8049583f617a49e4a98a1487c71ef313",
       "version_major": 2,
       "version_minor": 0
      },
      "text/plain": [
       "  0%|          | 0/10544 [00:00<?, ?it/s]"
      ]
     },
     "metadata": {},
     "output_type": "display_data"
    },
    {
     "data": {
      "application/vnd.jupyter.widget-view+json": {
       "model_id": "a8081a6916d44fbcb06c1b6f5e048c35",
       "version_major": 2,
       "version_minor": 0
      },
      "text/plain": [
       "  0%|          | 0/1318 [00:00<?, ?it/s]"
      ]
     },
     "metadata": {},
     "output_type": "display_data"
    }
   ],
   "source": [
    "predictions, raw_outputs = model_BERT.predict(test['html_content'])"
   ]
  },
  {
   "cell_type": "code",
   "execution_count": 265,
   "metadata": {},
   "outputs": [
    {
     "data": {
      "text/plain": [
       "array([0.5985567 , 0.76386231, 0.69670433, ..., 0.74802208, 0.72222048,\n",
       "       0.14685556])"
      ]
     },
     "execution_count": 265,
     "metadata": {},
     "output_type": "execute_result"
    }
   ],
   "source": [
    "predictions"
   ]
  },
  {
   "cell_type": "code",
   "execution_count": 255,
   "metadata": {},
   "outputs": [
    {
     "data": {
      "text/plain": [
       "array([0.5985567 , 0.76386231, 0.69670433, 0.1685082 , 0.45283777,\n",
       "       0.66521865, 0.16260237, 0.10073728, 0.73190194, 0.20923726])"
      ]
     },
     "execution_count": 255,
     "metadata": {},
     "output_type": "execute_result"
    }
   ],
   "source": [
    "predictions[:10]"
   ]
  },
  {
   "cell_type": "code",
   "execution_count": 256,
   "metadata": {},
   "outputs": [
    {
     "data": {
      "text/plain": [
       "array([0.5985567 , 0.76386231, 0.69670433, 0.1685082 , 0.45283777,\n",
       "       0.66521865, 0.16260237, 0.10073728, 0.73190194, 0.20923726])"
      ]
     },
     "execution_count": 256,
     "metadata": {},
     "output_type": "execute_result"
    }
   ],
   "source": [
    "raw_outputs[:10]"
   ]
  },
  {
   "cell_type": "code",
   "execution_count": 261,
   "metadata": {},
   "outputs": [
    {
     "data": {
      "text/html": [
       "<div>\n",
       "<style scoped>\n",
       "    .dataframe tbody tr th:only-of-type {\n",
       "        vertical-align: middle;\n",
       "    }\n",
       "\n",
       "    .dataframe tbody tr th {\n",
       "        vertical-align: top;\n",
       "    }\n",
       "\n",
       "    .dataframe thead th {\n",
       "        text-align: right;\n",
       "    }\n",
       "</style>\n",
       "<table border=\"1\" class=\"dataframe\">\n",
       "  <thead>\n",
       "    <tr style=\"text-align: right;\">\n",
       "      <th></th>\n",
       "      <th>number</th>\n",
       "      <th>state</th>\n",
       "    </tr>\n",
       "  </thead>\n",
       "  <tbody>\n",
       "    <tr>\n",
       "      <th>0</th>\n",
       "      <td>10545</td>\n",
       "      <td>1</td>\n",
       "    </tr>\n",
       "    <tr>\n",
       "      <th>1</th>\n",
       "      <td>10546</td>\n",
       "      <td>0</td>\n",
       "    </tr>\n",
       "    <tr>\n",
       "      <th>2</th>\n",
       "      <td>10547</td>\n",
       "      <td>1</td>\n",
       "    </tr>\n",
       "    <tr>\n",
       "      <th>3</th>\n",
       "      <td>10548</td>\n",
       "      <td>0</td>\n",
       "    </tr>\n",
       "    <tr>\n",
       "      <th>4</th>\n",
       "      <td>10549</td>\n",
       "      <td>0</td>\n",
       "    </tr>\n",
       "  </tbody>\n",
       "</table>\n",
       "</div>"
      ],
      "text/plain": [
       "   number  state\n",
       "0   10545      1\n",
       "1   10546      0\n",
       "2   10547      1\n",
       "3   10548      0\n",
       "4   10549      0"
      ]
     },
     "execution_count": 261,
     "metadata": {},
     "output_type": "execute_result"
    }
   ],
   "source": [
    "sample=pd.read_csv('sample_submit.csv',header=None,names=('number','state'))\n",
    "sample.head()"
   ]
  },
  {
   "cell_type": "code",
   "execution_count": 262,
   "metadata": {},
   "outputs": [
    {
     "data": {
      "text/plain": [
       "0        0.598557\n",
       "1        0.763862\n",
       "2        0.696704\n",
       "3        0.168508\n",
       "4        0.452838\n",
       "           ...   \n",
       "10539    0.171099\n",
       "10540    0.092750\n",
       "10541    0.748022\n",
       "10542    0.722220\n",
       "10543    0.146856\n",
       "Name: state, Length: 10544, dtype: float64"
      ]
     },
     "execution_count": 262,
     "metadata": {},
     "output_type": "execute_result"
    }
   ],
   "source": [
    "sample['state']=predictions\n",
    "sample['state']"
   ]
  },
  {
   "cell_type": "code",
   "execution_count": 161,
   "metadata": {},
   "outputs": [],
   "source": [
    "sample.to_csv('sample_submit.csv',index=False,header=None)"
   ]
  },
  {
   "cell_type": "code",
   "execution_count": 263,
   "metadata": {},
   "outputs": [],
   "source": [
    "sample.to_csv('BERT.csv',index=False,header=None)"
   ]
  },
  {
   "cell_type": "code",
   "execution_count": null,
   "metadata": {},
   "outputs": [],
   "source": []
  },
  {
   "cell_type": "code",
   "execution_count": null,
   "metadata": {},
   "outputs": [],
   "source": []
  },
  {
   "cell_type": "code",
   "execution_count": null,
   "metadata": {},
   "outputs": [],
   "source": []
  },
  {
   "cell_type": "code",
   "execution_count": null,
   "metadata": {},
   "outputs": [],
   "source": []
  },
  {
   "cell_type": "code",
   "execution_count": null,
   "metadata": {},
   "outputs": [],
   "source": []
  },
  {
   "cell_type": "code",
   "execution_count": null,
   "metadata": {},
   "outputs": [],
   "source": []
  }
 ],
 "metadata": {
  "kernelspec": {
   "display_name": "Python 3",
   "language": "python",
   "name": "python3"
  },
  "language_info": {
   "codemirror_mode": {
    "name": "ipython",
    "version": 3
   },
   "file_extension": ".py",
   "mimetype": "text/x-python",
   "name": "python",
   "nbconvert_exporter": "python",
   "pygments_lexer": "ipython3",
   "version": "3.6.10"
  }
 },
 "nbformat": 4,
 "nbformat_minor": 4
}
